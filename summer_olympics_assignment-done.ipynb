{
 "cells": [
  {
   "cell_type": "code",
   "execution_count": 11,
   "id": "7efa743b",
   "metadata": {},
   "outputs": [
    {
     "data": {
      "text/html": [
       "<div>\n",
       "<style scoped>\n",
       "    .dataframe tbody tr th:only-of-type {\n",
       "        vertical-align: middle;\n",
       "    }\n",
       "\n",
       "    .dataframe tbody tr th {\n",
       "        vertical-align: top;\n",
       "    }\n",
       "\n",
       "    .dataframe thead th {\n",
       "        text-align: right;\n",
       "    }\n",
       "</style>\n",
       "<table border=\"1\" class=\"dataframe\">\n",
       "  <thead>\n",
       "    <tr style=\"text-align: right;\">\n",
       "      <th></th>\n",
       "      <th>Year</th>\n",
       "      <th>City</th>\n",
       "      <th>Sport</th>\n",
       "      <th>Discipline</th>\n",
       "      <th>Athlete</th>\n",
       "      <th>Country</th>\n",
       "      <th>Gender</th>\n",
       "      <th>Event</th>\n",
       "      <th>Medal</th>\n",
       "    </tr>\n",
       "  </thead>\n",
       "  <tbody>\n",
       "    <tr>\n",
       "      <th>0</th>\n",
       "      <td>1896</td>\n",
       "      <td>Athens</td>\n",
       "      <td>Aquatics</td>\n",
       "      <td>Swimming</td>\n",
       "      <td>HAJOS, Alfred</td>\n",
       "      <td>HUN</td>\n",
       "      <td>Men</td>\n",
       "      <td>100M Freestyle</td>\n",
       "      <td>Gold</td>\n",
       "    </tr>\n",
       "    <tr>\n",
       "      <th>1</th>\n",
       "      <td>1896</td>\n",
       "      <td>Athens</td>\n",
       "      <td>Aquatics</td>\n",
       "      <td>Swimming</td>\n",
       "      <td>HERSCHMANN, Otto</td>\n",
       "      <td>AUT</td>\n",
       "      <td>Men</td>\n",
       "      <td>100M Freestyle</td>\n",
       "      <td>Silver</td>\n",
       "    </tr>\n",
       "    <tr>\n",
       "      <th>2</th>\n",
       "      <td>1896</td>\n",
       "      <td>Athens</td>\n",
       "      <td>Aquatics</td>\n",
       "      <td>Swimming</td>\n",
       "      <td>DRIVAS, Dimitrios</td>\n",
       "      <td>GRE</td>\n",
       "      <td>Men</td>\n",
       "      <td>100M Freestyle For Sailors</td>\n",
       "      <td>Bronze</td>\n",
       "    </tr>\n",
       "    <tr>\n",
       "      <th>3</th>\n",
       "      <td>1896</td>\n",
       "      <td>Athens</td>\n",
       "      <td>Aquatics</td>\n",
       "      <td>Swimming</td>\n",
       "      <td>MALOKINIS, Ioannis</td>\n",
       "      <td>GRE</td>\n",
       "      <td>Men</td>\n",
       "      <td>100M Freestyle For Sailors</td>\n",
       "      <td>Gold</td>\n",
       "    </tr>\n",
       "    <tr>\n",
       "      <th>4</th>\n",
       "      <td>1896</td>\n",
       "      <td>Athens</td>\n",
       "      <td>Aquatics</td>\n",
       "      <td>Swimming</td>\n",
       "      <td>CHASAPIS, Spiridon</td>\n",
       "      <td>GRE</td>\n",
       "      <td>Men</td>\n",
       "      <td>100M Freestyle For Sailors</td>\n",
       "      <td>Silver</td>\n",
       "    </tr>\n",
       "  </tbody>\n",
       "</table>\n",
       "</div>"
      ],
      "text/plain": [
       "   Year    City     Sport Discipline             Athlete Country Gender  \\\n",
       "0  1896  Athens  Aquatics   Swimming       HAJOS, Alfred     HUN    Men   \n",
       "1  1896  Athens  Aquatics   Swimming    HERSCHMANN, Otto     AUT    Men   \n",
       "2  1896  Athens  Aquatics   Swimming   DRIVAS, Dimitrios     GRE    Men   \n",
       "3  1896  Athens  Aquatics   Swimming  MALOKINIS, Ioannis     GRE    Men   \n",
       "4  1896  Athens  Aquatics   Swimming  CHASAPIS, Spiridon     GRE    Men   \n",
       "\n",
       "                        Event   Medal  \n",
       "0              100M Freestyle    Gold  \n",
       "1              100M Freestyle  Silver  \n",
       "2  100M Freestyle For Sailors  Bronze  \n",
       "3  100M Freestyle For Sailors    Gold  \n",
       "4  100M Freestyle For Sailors  Silver  "
      ]
     },
     "execution_count": 11,
     "metadata": {},
     "output_type": "execute_result"
    }
   ],
   "source": [
    "import pandas as pd\n",
    "df = pd.read_csv(\"Summer.csv\")\n",
    "import numpy as np\n",
    "import matplotlib.pyplot as plt\n",
    "df.head()"
   ]
  },
  {
   "cell_type": "markdown",
   "id": "1d626fc6",
   "metadata": {},
   "source": [
    "# Summer Olympics Data Analysis Assignment\n",
    "\n",
    "\n",
    "\n",
    "\n",
    "#  1.In how many cities Summer Olympics is held so far?"
   ]
  },
  {
   "cell_type": "code",
   "execution_count": 2,
   "id": "99490e3d",
   "metadata": {},
   "outputs": [
    {
     "name": "stdout",
     "output_type": "stream",
     "text": [
      "The cities summer olympics held is 22\n"
     ]
    }
   ],
   "source": [
    "print(\"The cities summer olympics held is\", len(df['City'].unique()))"
   ]
  },
  {
   "cell_type": "markdown",
   "id": "04ff8300",
   "metadata": {},
   "source": [
    "# 2. Which sport is having most number of Gold Medals so far? (Top 5)"
   ]
  },
  {
   "cell_type": "code",
   "execution_count": 19,
   "id": "1f5ca842",
   "metadata": {},
   "outputs": [
    {
     "name": "stdout",
     "output_type": "stream",
     "text": [
      "Top 5 sports with most number of Gold Medals:\n",
      "         Sport  Medal\n",
      "0     Aquatics   1421\n",
      "1    Athletics   1215\n",
      "17      Rowing    890\n",
      "4   Gymnastics    820\n",
      "3      Fencing    552\n",
      "\n",
      "\n",
      "Bar graph for the top 5 sports having most number of Gold Medals:\n",
      "AxesSubplot(0.125,0.125;0.775x0.755)\n"
     ]
    },
    {
     "data": {
      "image/png": "[encoded data removed]",
      "text/plain": [
       "<Figure size 360x360 with 1 Axes>"
      ]
     },
     "metadata": {
      "needs_background": "light"
     },
     "output_type": "display_data"
    }
   ],
   "source": [
    "df_1=df[df['Medal']=='Gold']\n",
    "data = []\n",
    "for Sport in df_1['Sport'].unique():\n",
    "    data.append([Sport , len(df_1[df_1['Sport']  == Sport])])\n",
    "data_frame=pd.DataFrame(data,columns = ['Sport','Medal']).sort_values(by='Medal', ascending=False)\n",
    "dat=data_frame.head()\n",
    "print(\"Top 5 sports with most number of Gold Medals:\")\n",
    "print(dat)\n",
    "print(\"\\n\")\n",
    "print(\"Bar graph for the top 5 sports having most number of Gold Medals:\")\n",
    "print(dat.plot(x = 'Sport', y = 'Medal', kind = 'bar', figsize = (5,5),color='black'))"
   ]
  },
  {
   "cell_type": "markdown",
   "id": "d9d2ffe2",
   "metadata": {},
   "source": [
    "# 3. Which sport is having most number of medals so far? (Top 5)"
   ]
  },
  {
   "cell_type": "code",
   "execution_count": 26,
   "id": "00522310",
   "metadata": {},
   "outputs": [
    {
     "name": "stdout",
     "output_type": "stream",
     "text": [
      "The sport is having most number of medals\n",
      "         Sport  medals\n",
      "0     Aquatics    4170\n",
      "1    Athletics    3638\n",
      "17      Rowing    2667\n",
      "4   Gymnastics    2307\n",
      "3      Fencing    1613\n",
      "\n",
      "\n",
      "Bar graph for the top 5 sports having most number of  Medals:\n",
      "AxesSubplot(0.125,0.125;0.775x0.755)\n"
     ]
    },
    {
     "data": {
      "image/png": "[encoded data removed]",
      "text/plain": [
       "<Figure size 360x360 with 1 Axes>"
      ]
     },
     "metadata": {
      "needs_background": "light"
     },
     "output_type": "display_data"
    }
   ],
   "source": [
    "data = []\n",
    "\n",
    "for Sport in df['Sport'].unique():\n",
    "    data.append([Sport , len(df[df['Sport']  == Sport])])\n",
    "    \n",
    "    \n",
    "dataframe=pd.DataFrame(data,columns = ['Sport','medals']).sort_values(by='medals', ascending=False)\n",
    "dat=dataframe.head()\n",
    "print(\"The sport is having most number of medals\")\n",
    "print(dat)\n",
    "print(\"\\n\")\n",
    "print(\"Bar graph for the top 5 sports having most number of  Medals:\")\n",
    "print(dat.plot(x = 'Sport', y = 'medals', kind = 'bar', figsize = (5,5),color='blue'))"
   ]
  },
  {
   "cell_type": "markdown",
   "id": "616c5189",
   "metadata": {},
   "source": [
    "# 4. Which player has won most number of medals? (Top 5)"
   ]
  },
  {
   "cell_type": "code",
   "execution_count": 29,
   "id": "ff0a2b47",
   "metadata": {},
   "outputs": [
    {
     "name": "stdout",
     "output_type": "stream",
     "text": [
      "The players is having most number of medals\n",
      "                    Athlete  medals\n",
      "18640       PHELPS, Michael      22\n",
      "7197       LATYNINA, Larisa      18\n",
      "9948     ANDRIANOV, Nikolay      15\n",
      "6591           ONO, Takashi      13\n",
      "5103   MANGIAROTTI, Edoardo      13\n",
      "\n",
      "\n",
      "Bar graph for the top 5 players having most number of  Medals:\n",
      "AxesSubplot(0.125,0.125;0.775x0.755)\n"
     ]
    },
    {
     "data": {
      "image/png": "[encoded data removed]",
      "text/plain": [
       "<Figure size 360x360 with 1 Axes>"
      ]
     },
     "metadata": {
      "needs_background": "light"
     },
     "output_type": "display_data"
    }
   ],
   "source": [
    "data = []\n",
    "\n",
    "for Athlete in df['Athlete'].unique():\n",
    "    data.append([Athlete , len(df[df['Athlete']  == Athlete])])\n",
    "\n",
    "dataframe = pd.DataFrame(data,columns = ['Athlete','medals']).sort_values(by='medals', ascending=False)\n",
    "dat=dataframe.head()\n",
    "print(\"The players is having most number of medals\")\n",
    "print(dat)\n",
    "print(\"\\n\")\n",
    "print(\"Bar graph for the top 5 players having most number of  Medals:\")\n",
    "print(dat.plot(x = 'Athlete', y = 'medals', kind = 'bar', figsize = (5,5),color='yellow'))"
   ]
  },
  {
   "cell_type": "markdown",
   "id": "3ddffa88",
   "metadata": {},
   "source": [
    "# 5. Which player has won most number Gold Medals of medals? (Top 5)"
   ]
  },
  {
   "cell_type": "code",
   "execution_count": 32,
   "id": "73c5a370",
   "metadata": {},
   "outputs": [
    {
     "name": "stdout",
     "output_type": "stream",
     "text": [
      "Top 5 Player with most number of Gold Medals:\n",
      "               Athlete  Medal\n",
      "6851   PHELPS, Michael     18\n",
      "3320       SPITZ, Mark      9\n",
      "2714  LATYNINA, Larisa      9\n",
      "4630       LEWIS, Carl      9\n",
      "907       NURMI, Paavo      9\n",
      "\n",
      "\n",
      "Bar graph for the top 5 Player  having most number of Gold Medals:\n",
      "AxesSubplot(0.125,0.125;0.775x0.755)\n"
     ]
    },
    {
     "data": {
      "image/png": "[encoded data removed]",
      "text/plain": [
       "<Figure size 360x360 with 1 Axes>"
      ]
     },
     "metadata": {
      "needs_background": "light"
     },
     "output_type": "display_data"
    }
   ],
   "source": [
    "df_1=df[df['Medal']=='Gold']\n",
    "data = []\n",
    "for Athlete in df_1['Athlete'].unique():\n",
    "    data.append([Athlete , len(df_1[df_1['Athlete']  == Athlete])])\n",
    "data_frame=pd.DataFrame(data,columns = ['Athlete','Medal']).sort_values(by='Medal', ascending=False)\n",
    "dat=data_frame.head()\n",
    "print(\"Top 5 Player with most number of Gold Medals:\")\n",
    "print(dat)\n",
    "print(\"\\n\")\n",
    "print(\"Bar graph for the top 5 Player  having most number of Gold Medals:\")\n",
    "print(dat.plot(x = 'Athlete', y = 'Medal', kind = 'bar', figsize = (5,5),color='pink'))"
   ]
  },
  {
   "cell_type": "markdown",
   "id": "03234172",
   "metadata": {},
   "source": [
    "# 6. In which year India won first Gold Medal in Summer Olympics?"
   ]
  },
  {
   "cell_type": "code",
   "execution_count": 67,
   "id": "c6dec453",
   "metadata": {},
   "outputs": [
    {
     "name": "stderr",
     "output_type": "stream",
     "text": [
      "<ipython-input-67-bf9c9cc4c1fd>:2: UserWarning: Boolean Series key will be reindexed to match DataFrame index.\n",
      "  df_2=df_1[df['Country']=='IND']\n"
     ]
    },
    {
     "data": {
      "text/html": [
       "<div>\n",
       "<style scoped>\n",
       "    .dataframe tbody tr th:only-of-type {\n",
       "        vertical-align: middle;\n",
       "    }\n",
       "\n",
       "    .dataframe tbody tr th {\n",
       "        vertical-align: top;\n",
       "    }\n",
       "\n",
       "    .dataframe thead th {\n",
       "        text-align: right;\n",
       "    }\n",
       "</style>\n",
       "<table border=\"1\" class=\"dataframe\">\n",
       "  <thead>\n",
       "    <tr style=\"text-align: right;\">\n",
       "      <th></th>\n",
       "      <th>Year</th>\n",
       "      <th>Medal</th>\n",
       "    </tr>\n",
       "  </thead>\n",
       "  <tbody>\n",
       "    <tr>\n",
       "      <th>0</th>\n",
       "      <td>1928</td>\n",
       "      <td>15</td>\n",
       "    </tr>\n",
       "  </tbody>\n",
       "</table>\n",
       "</div>"
      ],
      "text/plain": [
       "   Year  Medal\n",
       "0  1928     15"
      ]
     },
     "execution_count": 67,
     "metadata": {},
     "output_type": "execute_result"
    }
   ],
   "source": [
    "\n",
    "\n",
    "df_1=df[df['Medal']=='Gold']\n",
    "df_2=df_1[df['Country']=='IND']\n",
    "data = []\n",
    "for Year in df_2['Year'].unique():\n",
    "    data.append([Year , len(df_2[df_2['Year']  == Year] )])\n",
    "pd.DataFrame(data,columns = ['Year','Medal']).sort_values(by='Year', ascending=True).head(1)\n"
   ]
  },
  {
   "cell_type": "markdown",
   "id": "4b0ead05",
   "metadata": {},
   "source": [
    "# 7. Which event is most popular in terms on number of players? (Top 5)\n"
   ]
  },
  {
   "cell_type": "code",
   "execution_count": 33,
   "id": "59ea2d37",
   "metadata": {},
   "outputs": [
    {
     "name": "stdout",
     "output_type": "stream",
     "text": [
      "The EVENT is  MOST POPULAR five PLAYER\n",
      "                Event  athlete\n",
      "80           Football     1497\n",
      "176            Hockey     1422\n",
      "138  Team Competition     1147\n",
      "327        Basketball     1012\n",
      "337          Handball      973\n",
      "\n",
      "\n",
      "Bar graph for event is most popular 5 player:\n",
      "AxesSubplot(0.125,0.125;0.775x0.755)\n"
     ]
    },
    {
     "data": {
      "image/png": "[encoded data removed]",
      "text/plain": [
       "<Figure size 360x360 with 1 Axes>"
      ]
     },
     "metadata": {
      "needs_background": "light"
     },
     "output_type": "display_data"
    }
   ],
   "source": [
    "data = []\n",
    "\n",
    "for Event in df['Event'].unique():\n",
    "    data.append([Event, len(df[df['Event']  == Event])])\n",
    "\n",
    "dataframe = pd.DataFrame(data,columns = ['Event','athlete']).sort_values(by='athlete', ascending=False)\n",
    "dat=dataframe.head()\n",
    "print(\"The EVENT is  MOST POPULAR five PLAYER\")\n",
    "print(dat)\n",
    "print(\"\\n\")\n",
    "print(\"Bar graph for event is most popular 5 player:\")\n",
    "print(dat.plot(x = 'Event', y = 'athlete', kind = 'bar', figsize = (5,5),color='orange'))"
   ]
  },
  {
   "cell_type": "markdown",
   "id": "c260e586",
   "metadata": {},
   "source": [
    "# 8. Which sport is having most female Gold Medalists? (Top 5)"
   ]
  },
  {
   "cell_type": "code",
   "execution_count": 50,
   "id": "3ce21616",
   "metadata": {},
   "outputs": [
    {
     "name": "stderr",
     "output_type": "stream",
     "text": [
      "<ipython-input-50-e759c1ce7792>:2: UserWarning: Boolean Series key will be reindexed to match DataFrame index.\n",
      "  df_2=df_1[df['Gender']=='Women']\n"
     ]
    },
    {
     "name": "stdout",
     "output_type": "stream",
     "text": [
      "Top 5 sports with most number of Gold Medals:\n",
      "         Sport  Medal\n",
      "4     Aquatics    589\n",
      "7    Athletics    389\n",
      "8   Gymnastics    268\n",
      "14      Rowing    217\n",
      "11  Volleyball    166\n",
      "\n",
      "\n",
      "Bar graph for the top 5 sports having most number of Gold Medals:\n",
      "AxesSubplot(0.125,0.125;0.775x0.755)\n"
     ]
    },
    {
     "data": {
      "image/png": "[encoded data removed]",
      "text/plain": [
       "<Figure size 360x360 with 1 Axes>"
      ]
     },
     "metadata": {
      "needs_background": "light"
     },
     "output_type": "display_data"
    }
   ],
   "source": [
    "df_1=df[df['Medal']=='Gold']\n",
    "df_2=df_1[df['Gender']=='Women']\n",
    "data = []\n",
    "for Sport in df_2['Sport'].unique():\n",
    "    data.append([Sport , len(df_2[df_2['Sport']  == Sport] )])\n",
    "data_frame=pd.DataFrame(data,columns = ['Sport','Medal']).sort_values(by='Medal', ascending=False)\n",
    "dat=data_frame.head()\n",
    "print(\"Top 5 sports with most number of Gold Medals:\")\n",
    "print(dat)\n",
    "print(\"\\n\")\n",
    "print(\"Bar graph for the top 5 sports having most number of Gold Medals:\")\n",
    "print(dat.plot(x = 'Sport', y = 'Medal', kind = 'bar', figsize = (5,5),color='red'))\n",
    " "
   ]
  },
  {
   "cell_type": "code",
   "execution_count": null,
   "id": "7f496de6",
   "metadata": {},
   "outputs": [],
   "source": []
  },
  {
   "cell_type": "code",
   "execution_count": null,
   "id": "1686ddec",
   "metadata": {},
   "outputs": [],
   "source": []
  }
 ],
 "metadata": {
  "kernelspec": {
   "display_name": "Python 3",
   "language": "python",
   "name": "python3"
  },
  "language_info": {
   "codemirror_mode": {
    "name": "ipython",
    "version": 3
   },
   "file_extension": ".py",
   "mimetype": "text/x-python",
   "name": "python",
   "nbconvert_exporter": "python",
   "pygments_lexer": "ipython3",
   "version": "3.8.8"
  }
 },
 "nbformat": 4,
 "nbformat_minor": 5
}
